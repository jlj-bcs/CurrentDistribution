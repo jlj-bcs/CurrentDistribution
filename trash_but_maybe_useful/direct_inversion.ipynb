{
 "cells": [
  {
   "cell_type": "code",
   "execution_count": 1,
   "metadata": {},
   "outputs": [],
   "source": [
    "# Import libaries\n",
    "import numpy as np                       # Math\n",
    "import matplotlib.pyplot as plt          # Plots\n",
    "from scipy.optimize import fsolve        # Numerically solve equations\n",
    "from IPython.display import clear_output # Display settings\n",
    "import time                              # Record time\n",
    "\n",
    "from scipy.sparse import diags"
   ]
  },
  {
   "cell_type": "code",
   "execution_count": 2,
   "metadata": {},
   "outputs": [],
   "source": [
    "\n",
    "# ==== INPUT PARAMETERS =====\n",
    "length, height = 19,19 # cm\n",
    "h = 0.5 # cm. Grid spacing.\n",
    "nx,ny = int(length/h +1), int(height/h + 1)\n",
    "\n",
    "x,y = np.arange(0,length+h,h), np.arange(0,height+h,h)\n",
    "X,Y = np.meshgrid(x,y,indexing=\"xy\")"
   ]
  },
  {
   "cell_type": "code",
   "execution_count": 3,
   "metadata": {},
   "outputs": [
    {
     "data": {
      "text/plain": [
       "<matplotlib.contour.QuadContourSet at 0x20e18e90dd0>"
      ]
     },
     "execution_count": 3,
     "metadata": {},
     "output_type": "execute_result"
    },
    {
     "data": {
      "image/png": "[encoded data removed]",
      "text/plain": [
       "<Figure size 640x480 with 1 Axes>"
      ]
     },
     "metadata": {},
     "output_type": "display_data"
    }
   ],
   "source": [
    "# from:\n",
    "# https://aquaulb.github.io/book_solving_pde_mooc/solving_pde_mooc/notebooks/05_IterativeMethods/05_01_Iteration_and_2D.html#introduction\n",
    "V = np.empty((nx,ny))\n",
    "b = np.zeros_like(V)\n",
    "bflat = b[1:-1,1:-1].flatten(\"C\")\n",
    "\n",
    "def d2_mat_dirichlet_2d(nx,ny,h):\n",
    "    \"\"\"\n",
    "    Constructs the matrix for the centered second-order accurate\n",
    "    second-order derivative for Dirichlet boundary conditions in 2D\n",
    "    \"\"\"\n",
    "    a = 1.0 / h**2\n",
    "    c = -4.0*a\n",
    "\n",
    "    diag_a = a * np.ones((nx-2)*(ny-2)-1)\n",
    "    diag_a[nx-3::nx-2] = 0.0\n",
    "    diag_g = a * np.ones((nx-2)*(ny-3))\n",
    "    diag_c = c * np.ones((nx-2)*(ny-2))\n",
    "\n",
    "    diagonals = [diag_g, diag_a, diag_c, diag_a, diag_g]\n",
    "    offsets = [-(nx-2), -1, 0, 1, nx-2]\n",
    "\n",
    "    d2mat = diags(diagonals, offsets).toarray()\n",
    "\n",
    "    return d2mat\n",
    "\n",
    "def laplace_by_direct_inversion(nx,ny,h,bflat):\n",
    "    A = d2_mat_dirichlet_2d(nx,ny,h)\n",
    "    Ainv = np.linalg.inv(A)\n",
    "    Vvec = np.reshape(np.dot(Ainv,bflat), (nx-2,ny-2), order=\"C\")\n",
    "    V[1:-1,1:-1] = Vvec\n",
    "    V[0,:], V[-1,:], V[:,0], V[-1,:] = 0,0,0,0\n",
    "    return V\n",
    "\n",
    "fig,ax = plt.subplots()\n",
    "ax.contourf(X,Y,V)\n",
    "\n",
    "# But where can I impose the constant electrode potentials?"
   ]
  }
 ],
 "metadata": {
  "kernelspec": {
   "display_name": "base",
   "language": "python",
   "name": "python3"
  },
  "language_info": {
   "codemirror_mode": {
    "name": "ipython",
    "version": 3
   },
   "file_extension": ".py",
   "mimetype": "text/x-python",
   "name": "python",
   "nbconvert_exporter": "python",
   "pygments_lexer": "ipython3",
   "version": "3.12.4"
  }
 },
 "nbformat": 4,
 "nbformat_minor": 2
}
